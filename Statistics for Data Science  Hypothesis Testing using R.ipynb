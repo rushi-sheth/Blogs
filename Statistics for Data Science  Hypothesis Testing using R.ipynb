{
 "cells": [
  {
   "cell_type": "markdown",
   "metadata": {},
   "source": [
    "## Hypothesis Testing"
   ]
  },
  {
   "cell_type": "markdown",
   "metadata": {},
   "source": [
    "- [What is hypothesis testing?](#intro)\n",
    "- [Types of statistic](#types1)\n",
    "    - t-statistic\n",
    "    - z-statistic\n",
    "    - f-statistic    \n",
    "- [Types of Tests](#types2)\n",
    "  - [Parametric](#parametric) \n",
    "      - One Sample t-test\n",
    "      - Pooled t-test\n",
    "      - Paired t-test\n",
    "      - Welch Test\n",
    "      - Anova\n",
    "  - [Non-Parametric](#nonparametric)\n",
    "      - Wilcoxon one sample test\n",
    "      - Chi Square Goodness of fit\n",
    "      - Chi Square Test of Independence"
   ]
  },
  {
   "cell_type": "markdown",
   "metadata": {},
   "source": [
    "<a id=\"intro\"></a>\n",
    "### What is hypothesis testing?"
   ]
  },
  {
   "cell_type": "markdown",
   "metadata": {},
   "source": [
    "Hypothesis testing can be simply defined as,\"___A decision making process which uses statistical inference to accept or reject an assumption about some population parameter___.\"\n",
    "<br><Br>\n",
    "A hypothesis can be defined as an statement regarding the parameter that we would like to test.<br> The basic process of hypothesis testing is as follows: \n",
    "1. __State the null hypothesis $(H_{0})$__ - It proposes the relation between the sample and population that we are trying to reject.\n",
    "2. __State the Alternative hypothesis $(H_{a})$__ - This is a proposed statement contrary to the null hypothesis.\n",
    "3. __Decide the Significance level__ - A significance level is the probability that the observed value of statistic isn't due to chance or random noise. The value is to be decided by the researcher prior to testing.\n",
    "4. __Decide the test statistic__: Once the setup is completed, we then decide the test statistic based on the data and the goal of the hypothesis.\n",
    "5. __Decision making__: The rejection or acceptance of the hypothesis can be done in two possible ways. \n",
    "    - Decision using __critical regions__: In this method, we compare the calculated statistic with the critical region in the distribution.\n",
    "    - Decision using __p value__: Using this method, we do not need to identify the critical region. Instead, we calculate the probability of getting the observed statistic (from previous step) if the null hypothesis were true. The probability can also be interpreted as the probability that our results are due to some random noise. If greater than our significance level, we fail to reject the null. "
   ]
  },
  
  {
   "cell_type": "markdown",
   "metadata": {},
   "source": [
    "<a id=\"type1\"></a>\n",
    "### Types of Statistics"
   ]
  },
  {
   "cell_type": "markdown",
   "metadata": {},
   "source": [
    "Depending on the data and the goal of the experiment, we can select what kind of statistic is to be used. Three commonly used statistic are:\n",
    " - z-statistic - \n",
    "     - **Data**: Large sample size (>30) and known population standard deviation\n",
    "     - **Goal**: Testing mean against standard or between two groups \n",
    " \n",
    " - t-statistic - \n",
    "     - **Data**: Small sample sizes (<30) and unknown population standard deviation\n",
    "     - **Goal**: Testing mean against standard or between two groups \n",
    " \n",
    " - f-statistic-\n",
    "     - **Data**: More than 2 groups\n",
    "     - **Goal**: ANOVA stands for Analysis of Variance. This test is used to compare means between 2 or more unrelated groups. "
   ]
  },
  {
   "cell_type": "markdown",
   "metadata": {},
   "source": [
    "<a id=\"types2\"></a>\n",
    "### Types of tests"
   ]
  },
  {
   "cell_type": "markdown",
   "metadata": {},
   "source": [
    "The testing can further be divided into parametric and non parametric tests. \n",
    "\n",
    "A parametric test assumes that the data has some underlying distribution, usually normal. A short summary table is given below comparing various testing parameters and hypothesis.\n"
   ]
  },
  {
   "cell_type": "markdown",
   "metadata": {},
   "source": [
    "<a id=\"parametric\"></a>\n",
    "### Parametric\n",
    "\n"
   ]
  },
  {
   "cell_type": "markdown",
   "metadata": {},
   "source": [
    "<img src='images\stats.png' >\n"
   ]
  },
  {
   "cell_type": "markdown",
   "metadata": {},
   "source": [
    "In this exercise, we will go through how to do hypothesis testing in R for the following tests:\n",
    " - One sample t-test\n",
    " - Pooled t-test\n",
    " - Paired t-test\n"
   ]
  },
  {
   "cell_type": "markdown",
   "metadata": {},
   "source": [
    "Let's come up with a hypothetical situation for better understanding of these tests.\n",
    "<br><br>\n",
    "**Problem Statement**<br>\n",
    "Due to global warming and climate crisis, a group of middle school students worried about their future,\n",
    "take up an experiment to check and promote tree plantation. They live in state called \"Concrete jungle\" with 8 towns which are identical to each other in all aspects, (size, population, plantation area etc.) \n",
    "\n",
    "- The state government body claims that on an average there were 150 trees planted every week in each town \n",
    "- Students think this is not true and the actual mean is less than 150. They accompany the plantation supervisors in their town for 10 weeks and collect the weekly data\n",
    "- Due to weather and other reasons, they observe that every week the number is not consistent with 150.\n",
    "\n",
    "***"
   ]
  },
  {
   "cell_type": "markdown",
   "metadata": {},
   "source": [
    "\n",
    "##### One Sample t-test\n",
    "\n",
    "__How do we verify if the number of trees are actually 150?__\n",
    "\n",
    "This is one type of problem where we can use one sample t-test. Since all the towns are identical and independent of each other, we can use a t-test.\n",
    "\n",
    "$$H_{0} = \\mu_{\\text{trees planted every week}}=150 \\\\ H_{a} = \\mu_{\\text{trees planted every week}}<150 $$\n",
    "\n",
    "Sample size (n) = 10 (since 10 weeks of data)<br>\n",
    "Population mean = 150 (claim of the government)\n"
   ]
  },
  {
   "cell_type": "code",
   "execution_count": 51,
   "metadata": {},
   "outputs": [
    {
     "data": {
      "text/html": [
       "<table>\n",
       "<thead><tr><th scope=col>week</th><th scope=col>trees</th></tr></thead>\n",
       "<tbody>\n",
       "\t<tr><td> 1 </td><td>142</td></tr>\n",
       "\t<tr><td> 2 </td><td>143</td></tr>\n",
       "\t<tr><td> 3 </td><td>152</td></tr>\n",
       "\t<tr><td> 4 </td><td>145</td></tr>\n",
       "\t<tr><td> 5 </td><td>145</td></tr>\n",
       "\t<tr><td> 6 </td><td>153</td></tr>\n",
       "\t<tr><td> 7 </td><td>147</td></tr>\n",
       "\t<tr><td> 8 </td><td>138</td></tr>\n",
       "\t<tr><td> 9 </td><td>141</td></tr>\n",
       "\t<tr><td>10 </td><td>142</td></tr>\n",
       "</tbody>\n",
       "</table>\n"
      ],
      "text/latex": [
       "\\begin{tabular}{r|ll}\n",
       " week & trees\\\\\n",
       "\\hline\n",
       "\t  1  & 142\\\\\n",
       "\t  2  & 143\\\\\n",
       "\t  3  & 152\\\\\n",
       "\t  4  & 145\\\\\n",
       "\t  5  & 145\\\\\n",
       "\t  6  & 153\\\\\n",
       "\t  7  & 147\\\\\n",
       "\t  8  & 138\\\\\n",
       "\t  9  & 141\\\\\n",
       "\t 10  & 142\\\\\n",
       "\\end{tabular}\n"
      ],
      "text/markdown": [
       "\n",
       "| week | trees |\n",
       "|---|---|\n",
       "|  1  | 142 |\n",
       "|  2  | 143 |\n",
       "|  3  | 152 |\n",
       "|  4  | 145 |\n",
       "|  5  | 145 |\n",
       "|  6  | 153 |\n",
       "|  7  | 147 |\n",
       "|  8  | 138 |\n",
       "|  9  | 141 |\n",
       "| 10  | 142 |\n",
       "\n"
      ],
      "text/plain": [
       "   week trees\n",
       "1   1   142  \n",
       "2   2   143  \n",
       "3   3   152  \n",
       "4   4   145  \n",
       "5   5   145  \n",
       "6   6   153  \n",
       "7   7   147  \n",
       "8   8   138  \n",
       "9   9   141  \n",
       "10 10   142  "
      ]
     },
     "metadata": {},
     "output_type": "display_data"
    }
   ],
   "source": [
    "set.seed(123)\n",
    "student_town = data.frame(week=1:10,trees = as.integer(rnorm(10,mean = 145, sd = 5)))\n",
    "student_town"
   ]
  },
  {
   "cell_type": "markdown",
   "metadata": {},
   "source": [
    "First we decide the significance level $\\alpha$. \n",
    "<br>$$\\alpha = 0.05$$\n",
    "\n",
    "Next, we check for normality of the data. This can be done using Shapiro-Wilk test or plots like QQ."
   ]
  },
  {
   "cell_type": "code",
   "execution_count": 34,
   "metadata": {},
   "outputs": [
    {
     "data": {
      "text/plain": [
       "\n",
       "\tShapiro-Wilk normality test\n",
       "\n",
       "data:  student_town\n",
       "W = 0.92372, p-value = 0.389\n"
      ]
     },
     "metadata": {},
     "output_type": "display_data"
    }
   ],
   "source": [
    "shapiro.test(student_town)"
   ]
  },
  {
   "cell_type": "markdown",
   "metadata": {},
   "source": [
    "The null hypothesis for shapiro test is \"Data is distributed normally\".<br>Since the p-value is greater than 0.05, we cannot reject the null hypothesis."
   ]
  },
  {
   "cell_type": "code",
   "execution_count": 37,
   "metadata": {
    "scrolled": false
   },
   "outputs": [],
   "source": [
    "library(\"ggplot2\")\n",
    "library(repr)"
   ]
  },
  {
   "cell_type": "code",
   "execution_count": 46,
   "metadata": {},
   "outputs": [
    {
     "data": {
      "image/png": "iVBORw0KGgoAAAANSUhEUgAAAPAAAADwCAMAAAAJixmgAAAAD1BMVEUAAAAzMzNNTU3r6+v/\n//+EK80uAAAACXBIWXMAABJ0AAASdAHeZh94AAAEw0lEQVR4nO3d0ZarIAwF0Fxn/v+b77RV\nlApCMCAcTh5mXNpY9rK2SgOV38lCnm5A6yAYPQhGD4LRg2Bl/Lg4LHoRW6/fcCOBYIIJJngI\nsIh8liYBi6ziScAim5hggiHA053D871L70tQ4O0wXiRAgd2JepGABN7fii8SCCZ4HHDjc7iH\n+PMqHnzzyYqPCz+HK+yJYIIJJphg+2YSbJBAMMEEE0ywVTMJNkggmGCCCSbYqpnPg5fP31es\n/7HBq2856HdxhWY+DV5+JwN/GecBb6ewW/PvFRnpfYXuCC8THeFtiWDzZhqC3deoBeARX9L7\nt8aFYP9Nq3uw3L/SOv7vHfz3cp7qWlq89fhg8dejg7cKy/0R2GA5rccGy3k9MvhQszUFWILr\nYcF+SR4+WCLrUcHfFZfg4HOFKTY4UFALDQ4VEAODpyoQ/9sw16iWyOH9gQVLRgISWHIScMAi\nkQ1+wtDg4xiW7xv92I7swO3jPWpnWy5Iv/n02cfFYMPngmoflyXnno3YjiDAoRv92I4QwJKZ\n8FkaF7yOvJNwz0ZsRyOD3+/SEtpwsaOhwedrSXTwxY1+bP3Q4POtAjQ4dGuEDE7c6MfWDwtO\njQSPrR8UnJ6vI7Z+THCsYwMVLEUn/bo0HljiPTmQ4KuODTzwNimWdk+jgt20Z9o9DQp2d8DY\nYNdVJ3OA946rOY6w15HT/BxevIXFK7asC15f1o3fpR1v+aqkbXGEb+2pDLyNatkWmoCDk2Q1\nfkkvh3rp+uDQVIYPgd0pXHdUS63vgDqtiA/e+TY9wr6zNljXsVEHvBw/jiqDlR0bdT+H67+k\nM0o2MjeYgasO8sgp2cjcYHelVRGcVbKRuWGAa+nMko3MDf2Dc0s2Mjf0DpbETQIaWFK3gWDg\ndM8GFFgyejaQwK5jYxKw69iY4xx215KTvEsXlGyoE3oCl5RsqBP6AZeVbKgTugEXlmyoEzoB\nJyfvz95Tan0f4PXDt6D96oQuwMdvUZTtVyd0AJZXyUb4VzggwZ8ryHnA6xXkLOD9CnK8c1gf\n/i+rqH5nxeTpb+arj8t+TG8cMHXCc+DDWUuwbk+qhKfAXiXDBGD/2gof7FWowIIPBWZ27Vcn\ntAMfCswM269OaAb2Cszs2q9OaA22LtlQJ7QGW7dfndAMfPErjKDg+G/lwoLVzRwaXDIWZWRw\nUZXzwOCye4RhwaX3CKOCU5NsoIED04fatV+dUB0cnD7Urv3qhNrgnEk2OgZray1j04fatV+d\noAL7o1rS5cN3x6I8Df4a1ZIE3+7YeBocGtUSBxuMRekWHBrV0v98ZLajWkw6Nvo4wstp4QxO\nTR9q1351QgF4G9USB1t1bPQBPh/qb7BZx8YYYIn2bIwODl9pWRb9Pg++igrNJNgggWCCdWC5\n6I5FBL+/T5kIfPWNGcEm7VcnEHwLPN05PN+7tG0zCTZIIJhgu9BP16PO0CQQbB4E22f0Be4s\nCEYPgtGD4AqxpB9yfLT3zYb5EzQA69ofmCzU9Anqgxdd8/Vg3RN095IuOMIEXwXBFWIWsPt8\nmQXsguDkg2cCA1xp9RUEowfB6EEwehCMHgSjB8HoQTB6EIweBKMHwehBMHoQjB4EowfB6EEw\nehCMHtOB/wPyyxGlIESCPwAAAABJRU5ErkJggg==",
      "text/plain": [
       "plot without title"
      ]
     },
     "metadata": {},
     "output_type": "display_data"
    }
   ],
   "source": [
    "options(repr.plot.width=2, repr.plot.height=2)\n",
    "qplot(sample=student_town)+stat_qq_line()"
   ]
  },
  {
   "cell_type": "markdown",
   "metadata": {},
   "source": [
    "The data on the qq plot follow a kind of straight line, so we can confirm its normally distributed."
   ]
  },
  {
   "cell_type": "markdown",
   "metadata": {},
   "source": [
    "Now, we perform the student one sided t test.\n",
    "<br><br>Why one sided?<br>Since we are concerned with the direction of the relationship, i.e., testing only for less than mean, we use one sided.\n"
   ]
  },
  {
   "cell_type": "code",
   "execution_count": 52,
   "metadata": {},
   "outputs": [
    {
     "data": {
      "text/plain": [
       "\n",
       "\tOne Sample t-test\n",
       "\n",
       "data:  student_town$trees\n",
       "t = -3.4573, df = 9, p-value = 0.003596\n",
       "alternative hypothesis: true mean is less than 150\n",
       "95 percent confidence interval:\n",
       "     -Inf 147.5571\n",
       "sample estimates:\n",
       "mean of x \n",
       "    144.8 \n"
      ]
     },
     "metadata": {},
     "output_type": "display_data"
    }
   ],
   "source": [
    "t.test(student_town$trees,mu=150,alternative=\"less\")"
   ]
  },
  {
   "cell_type": "markdown",
   "metadata": {},
   "source": [
    "**We can observe that the p-value is less than 0.05 (significance level $\\alpha$), so we reject the null hypothesis that mean plantation is 150 per week.**\n",
    "\n",
    "***"
   ]
  },
  {
   "cell_type": "markdown",
   "metadata": {},
   "source": [
    "##### Pooled t-test (2-sample t-test)"
   ]
  },
  {
   "cell_type": "markdown",
   "metadata": {},
   "source": [
    "As the news of the student experiment spread, another student group in the neighboring state \"Nature Lovers\" undertook the same experiment. But, the Nature lovers state has is not related to the concrete jungle state in any way. It has different land size, plantation cover etc. "
   ]
  },
  {
   "cell_type": "markdown",
   "metadata": {},
   "source": [
    "Such kind of questions can be solved using a pooled or 2 sample t-test. We test for the equal means.<br><br>\n",
    "$$H_{0} = \\mu_{concrete} = \\mu_{nature} $$\n",
    "$$H_{a} =\\mu_{concrete} \\neq \\mu_{nature} $$"
   ]
  },
  {
   "cell_type": "code",
   "execution_count": 74,
   "metadata": {},
   "outputs": [
    {
     "data": {
      "text/html": [
       "<table>\n",
       "<thead><tr><th scope=col>week</th><th scope=col>Concrete_jungle</th><th scope=col>Nature_lovers</th></tr></thead>\n",
       "<tbody>\n",
       "\t<tr><td> 1 </td><td>142</td><td>162</td></tr>\n",
       "\t<tr><td> 2 </td><td>143</td><td>157</td></tr>\n",
       "\t<tr><td> 3 </td><td>152</td><td>157</td></tr>\n",
       "\t<tr><td> 4 </td><td>145</td><td>155</td></tr>\n",
       "\t<tr><td> 5 </td><td>145</td><td>151</td></tr>\n",
       "\t<tr><td> 6 </td><td>153</td><td>165</td></tr>\n",
       "\t<tr><td> 7 </td><td>147</td><td>157</td></tr>\n",
       "\t<tr><td> 8 </td><td>138</td><td>143</td></tr>\n",
       "\t<tr><td> 9 </td><td>141</td><td>159</td></tr>\n",
       "\t<tr><td>10 </td><td>142</td><td>152</td></tr>\n",
       "</tbody>\n",
       "</table>\n"
      ],
      "text/latex": [
       "\\begin{tabular}{r|lll}\n",
       " week & Concrete\\_jungle & Nature\\_lovers\\\\\n",
       "\\hline\n",
       "\t  1  & 142 & 162\\\\\n",
       "\t  2  & 143 & 157\\\\\n",
       "\t  3  & 152 & 157\\\\\n",
       "\t  4  & 145 & 155\\\\\n",
       "\t  5  & 145 & 151\\\\\n",
       "\t  6  & 153 & 165\\\\\n",
       "\t  7  & 147 & 157\\\\\n",
       "\t  8  & 138 & 143\\\\\n",
       "\t  9  & 141 & 159\\\\\n",
       "\t 10  & 142 & 152\\\\\n",
       "\\end{tabular}\n"
      ],
      "text/markdown": [
       "\n",
       "| week | Concrete_jungle | Nature_lovers |\n",
       "|---|---|---|\n",
       "|  1  | 142 | 162 |\n",
       "|  2  | 143 | 157 |\n",
       "|  3  | 152 | 157 |\n",
       "|  4  | 145 | 155 |\n",
       "|  5  | 145 | 151 |\n",
       "|  6  | 153 | 165 |\n",
       "|  7  | 147 | 157 |\n",
       "|  8  | 138 | 143 |\n",
       "|  9  | 141 | 159 |\n",
       "| 10  | 142 | 152 |\n",
       "\n"
      ],
      "text/plain": [
       "   week Concrete_jungle Nature_lovers\n",
       "1   1   142             162          \n",
       "2   2   143             157          \n",
       "3   3   152             157          \n",
       "4   4   145             155          \n",
       "5   5   145             151          \n",
       "6   6   153             165          \n",
       "7   7   147             157          \n",
       "8   8   138             143          \n",
       "9   9   141             159          \n",
       "10 10   142             152          "
      ]
     },
     "metadata": {},
     "output_type": "display_data"
    }
   ],
   "source": [
    "set.seed(123)\n",
    "pooled = data.frame(week=1:10,Concrete_jungle = as.integer(rnorm(10,145,sd=5)),Nature_lovers=as.integer(rnorm(10,155,sd=6)))\n",
    "pooled"
   ]
  },
  {
   "cell_type": "code",
   "execution_count": 75,
   "metadata": {},
   "outputs": [
    {
     "data": {
      "text/plain": [
       "\n",
       "\tShapiro-Wilk normality test\n",
       "\n",
       "data:  pooled$Concrete_jungle\n",
       "W = 0.92788, p-value = 0.4274\n"
      ]
     },
     "metadata": {},
     "output_type": "display_data"
    },
    {
     "data": {
      "text/plain": [
       "\n",
       "\tShapiro-Wilk normality test\n",
       "\n",
       "data:  pooled$Nature_lovers\n",
       "W = 0.95262, p-value = 0.6996\n"
      ]
     },
     "metadata": {},
     "output_type": "display_data"
    }
   ],
   "source": [
    "shapiro.test(pooled$Concrete_jungle)\n",
    "shapiro.test(pooled$Nature_lovers)"
   ]
  },
  {
   "cell_type": "markdown",
   "metadata": {},
   "source": [
    "Both the data exhibit normal distribution"
   ]
  },
  {
   "cell_type": "code",
   "execution_count": 77,
   "metadata": {},
   "outputs": [
    {
     "data": {
      "text/plain": [
       "\n",
       "\tTwo Sample t-test\n",
       "\n",
       "data:  pooled$Concrete_jungle and pooled$Nature_lovers\n",
       "t = -4.4775, df = 18, p-value = 0.0002911\n",
       "alternative hypothesis: true difference in means is not equal to 0\n",
       "95 percent confidence interval:\n",
       " -16.161412  -5.838588\n",
       "sample estimates:\n",
       "mean of x mean of y \n",
       "    144.8     155.8 \n"
      ]
     },
     "metadata": {},
     "output_type": "display_data"
    }
   ],
   "source": [
    "t.test(pooled$Concrete_jungle,pooled$Nature_lovers,var.equal = TRUE)"
   ]
  },
  {
   "cell_type": "markdown",
   "metadata": {},
   "source": [
    "We can observe that the p-value is less than 0.05, which means that the means of both the groups are not same. We can further investigate to understand if the nature lovers have higher or lesser number of trees planted using a **one sided t-test**.\n",
    "\n",
    "$$H_{0} = \\mu_{concrete} - \\mu_{nature} = 0$$\n",
    "$$H_{a} =\\mu_{concrete}-\\mu_{nature} < 0  $$"
   ]
  },
  {
   "cell_type": "code",
   "execution_count": 80,
   "metadata": {},
   "outputs": [
    {
     "data": {
      "text/plain": [
       "\n",
       "\tTwo Sample t-test\n",
       "\n",
       "data:  pooled$Concrete_jungle and pooled$Nature_lovers\n",
       "t = -4.4775, df = 18, p-value = 0.0001456\n",
       "alternative hypothesis: true difference in means is less than 0\n",
       "95 percent confidence interval:\n",
       "      -Inf -6.739862\n",
       "sample estimates:\n",
       "mean of x mean of y \n",
       "    144.8     155.8 \n"
      ]
     },
     "metadata": {},
     "output_type": "display_data"
    }
   ],
   "source": [
    "t.test(pooled$Concrete_jungle,pooled$Nature_lovers,var.equal = TRUE,alternative = 'less')"
   ]
  },
  {
   "cell_type": "markdown",
   "metadata": {},
   "source": [
    "**From the above p value, we can reject the null hypothesis that both the means are equal. Instead, the natural lovers have higher mean as compared to the concrete jungle.**\n",
    "\n",
    "***"
   ]
  },
  {
   "cell_type": "markdown",
   "metadata": {},
   "source": [
    "##### Paired t-test"
   ]
  },
  {
   "cell_type": "markdown",
   "metadata": {},
   "source": [
    "After observing that the number of trees planted are less than 150, the students of Concrete jungle protest and force the government to pass new regulations. The new regulations now fine the if they do not show any improvement. How do we know if there is an effect of the regulation? <br><br>\n",
    "We can identify this using paired t-test."
   ]
  },
  {
   "cell_type": "markdown",
   "metadata": {},
   "source": [
    "In a paired t-test, same subjects are observed twice. Once before a treatment and again after the treatment. \n",
    "\n",
    "$$H_{0} = \\mu_{before} - \\mu_{after} = 0$$\n",
    "$$H_{a} = \\mu_{before} - \\mu_{after} < 0 \\;\\;\\; \\text{i.e, improvement}$$ "
   ]
  },
  {
   "cell_type": "code",
   "execution_count": 55,
   "metadata": {},
   "outputs": [
    {
     "data": {
      "text/html": [
       "<table>\n",
       "<thead><tr><th scope=col>state</th><th scope=col>trees_planted_before</th><th scope=col>trees_planted_after</th></tr></thead>\n",
       "<tbody>\n",
       "\t<tr><td> 1 </td><td>142</td><td>155</td></tr>\n",
       "\t<tr><td> 2 </td><td>143</td><td>150</td></tr>\n",
       "\t<tr><td> 3 </td><td>152</td><td>151</td></tr>\n",
       "\t<tr><td> 4 </td><td>145</td><td>149</td></tr>\n",
       "\t<tr><td> 5 </td><td>145</td><td>146</td></tr>\n",
       "\t<tr><td> 6 </td><td>153</td><td>157</td></tr>\n",
       "\t<tr><td> 7 </td><td>147</td><td>151</td></tr>\n",
       "\t<tr><td> 8 </td><td>138</td><td>139</td></tr>\n",
       "\t<tr><td> 9 </td><td>141</td><td>152</td></tr>\n",
       "\t<tr><td>10 </td><td>142</td><td>146</td></tr>\n",
       "</tbody>\n",
       "</table>\n"
      ],
      "text/latex": [
       "\\begin{tabular}{r|lll}\n",
       " state & trees\\_planted\\_before & trees\\_planted\\_after\\\\\n",
       "\\hline\n",
       "\t  1  & 142 & 155\\\\\n",
       "\t  2  & 143 & 150\\\\\n",
       "\t  3  & 152 & 151\\\\\n",
       "\t  4  & 145 & 149\\\\\n",
       "\t  5  & 145 & 146\\\\\n",
       "\t  6  & 153 & 157\\\\\n",
       "\t  7  & 147 & 151\\\\\n",
       "\t  8  & 138 & 139\\\\\n",
       "\t  9  & 141 & 152\\\\\n",
       "\t 10  & 142 & 146\\\\\n",
       "\\end{tabular}\n"
      ],
      "text/markdown": [
       "\n",
       "| state | trees_planted_before | trees_planted_after |\n",
       "|---|---|---|\n",
       "|  1  | 142 | 155 |\n",
       "|  2  | 143 | 150 |\n",
       "|  3  | 152 | 151 |\n",
       "|  4  | 145 | 149 |\n",
       "|  5  | 145 | 146 |\n",
       "|  6  | 153 | 157 |\n",
       "|  7  | 147 | 151 |\n",
       "|  8  | 138 | 139 |\n",
       "|  9  | 141 | 152 |\n",
       "| 10  | 142 | 146 |\n",
       "\n"
      ],
      "text/plain": [
       "   state trees_planted_before trees_planted_after\n",
       "1   1    142                  155                \n",
       "2   2    143                  150                \n",
       "3   3    152                  151                \n",
       "4   4    145                  149                \n",
       "5   5    145                  146                \n",
       "6   6    153                  157                \n",
       "7   7    147                  151                \n",
       "8   8    138                  139                \n",
       "9   9    141                  152                \n",
       "10 10    142                  146                "
      ]
     },
     "metadata": {},
     "output_type": "display_data"
    }
   ],
   "source": [
    "set.seed(123)\n",
    "paired = data.frame(state = 1:10,trees_planted_before =as.integer(rnorm(10,145,sd=5)),trees_planted_after =as.integer(rnorm(10,149,sd=5)))\n",
    "paired                    "
   ]
  },
  {
   "cell_type": "markdown",
   "metadata": {},
   "source": [
    "Starting with selection of alpha.\n",
    "$$\\alpha = 0.05$$"
   ]
  },
  {
   "cell_type": "code",
   "execution_count": 70,
   "metadata": {},
   "outputs": [
    {
     "data": {
      "text/plain": [
       "\n",
       "\tShapiro-Wilk normality test\n",
       "\n",
       "data:  paired$trees_planted_before\n",
       "W = 0.92788, p-value = 0.4274\n"
      ]
     },
     "metadata": {},
     "output_type": "display_data"
    },
    {
     "data": {
      "text/plain": [
       "\n",
       "\tShapiro-Wilk normality test\n",
       "\n",
       "data:  paired$trees_planted_after\n",
       "W = 0.95009, p-value = 0.6695\n"
      ]
     },
     "metadata": {},
     "output_type": "display_data"
    }
   ],
   "source": [
    "shapiro.test(paired$trees_planted_before)\n",
    "shapiro.test(paired$trees_planted_after)"
   ]
  },
  {
   "cell_type": "markdown",
   "metadata": {},
   "source": [
    "Both the data are following normal distribution, we can proceed with the t test"
   ]
  },
  {
   "cell_type": "code",
   "execution_count": 68,
   "metadata": {},
   "outputs": [
    {
     "data": {
      "text/plain": [
       "\n",
       "\tPaired t-test\n",
       "\n",
       "data:  paired$trees_planted_before and paired$trees_planted_after\n",
       "t = -3.4364, df = 9, p-value = 0.003716\n",
       "alternative hypothesis: true difference in means is less than 0\n",
       "95 percent confidence interval:\n",
       "      -Inf -2.239468\n",
       "sample estimates:\n",
       "mean of the differences \n",
       "                   -4.8 \n"
      ]
     },
     "metadata": {},
     "output_type": "display_data"
    }
   ],
   "source": [
    "t.test(paired$trees_planted_before,paired$trees_planted_after,paired = TRUE,alternative = 'less')"
   ]
  },
  {
   "cell_type": "markdown",
   "metadata": {},
   "source": [
    "**We observe that the p-value is less than 0.05 along with a negative mean of differences and thus we reject the null hypothesis. There is an improvement due to regulations.**\n",
    "***"
   ]
  },
  {
   "cell_type": "markdown",
   "metadata": {},
   "source": [
    "<a id=\"nonparametric\"></a>\n",
    "### Non Parametric"
   ]
  },
  {
   "cell_type": "markdown",
   "metadata": {},
   "source": [
    "A non-parametric test is the one in which the data does not have any underlying distribution. "
   ]
  },
  {
   "cell_type": "markdown",
   "metadata": {},
   "source": [
    "Types: \n",
    "- __Chi Square goodness of fit__: Tests if the data is from a particular distribution\n",
    "- __Chi Square test of independence__: Tests if the variables are coming from the same population"
   ]
  },
  {
   "cell_type": "markdown",
   "metadata": {},
   "source": [
    "##### Chi Square goodness of fit"
   ]
  },
  {
   "cell_type": "markdown",
   "metadata": {},
   "source": [
    "This is test is used to identify if the observed values are from a particular distribution. This is done by comparing the observed and the expected values. The test statistic used is chi square ($\\chi^{2}$). \n",
    "\n",
    "$$\n",
    "\\chi^{2}=\\Sigma \\frac{(Observed-Expected)^{2}}{Expected}\n",
    "$$\n"
   ]
  },
  {
   "cell_type": "markdown",
   "metadata": {},
   "source": [
    "**Problem Statement**"
   ]
  },
  {
   "cell_type": "markdown",
   "metadata": {},
   "source": [
    "A chips manufacturing company has decided to promote health awareness. Instead of packing fried chips, the company now claims that they mix baked chips,fried chips and almonds in equal amounts by weight. To verify this, a boy buys the new packet of chips and found the following weights:\n",
    "\n",
    "- baked chips: 28gm\n",
    "- fried chips: 35gm\n",
    "- almonds :37gm\n",
    "\n",
    "Can we verify if this proportion is still equal?"
   ]
  },
  {
   "cell_type": "markdown",
   "metadata": {},
   "source": [
    "$$H_{0}: \\text{The observed values are equal to the expected values} \\\\\n",
    "H_{a}: \\text{The observed values are not equal to the expected values}$$\n"
   ]
  },
  {
   "cell_type": "markdown",
   "metadata": {},
   "source": [
    "Significance Level : $$\\ alpha =0.05$$"
   ]
  },
  {
   "cell_type": "code",
   "execution_count": 6,
   "metadata": {},
   "outputs": [
    {
     "data": {
      "text/html": [
       "<table>\n",
       "<thead><tr><th scope=col>Item</th><th scope=col>Weight</th></tr></thead>\n",
       "<tbody>\n",
       "\t<tr><td>Baked  </td><td>28     </td></tr>\n",
       "\t<tr><td>Fried  </td><td>35     </td></tr>\n",
       "\t<tr><td>Almonds</td><td>37     </td></tr>\n",
       "</tbody>\n",
       "</table>\n"
      ],
      "text/latex": [
       "\\begin{tabular}{r|ll}\n",
       " Item & Weight\\\\\n",
       "\\hline\n",
       "\t Baked   & 28     \\\\\n",
       "\t Fried   & 35     \\\\\n",
       "\t Almonds & 37     \\\\\n",
       "\\end{tabular}\n"
      ],
      "text/markdown": [
       "\n",
       "| Item | Weight |\n",
       "|---|---|\n",
       "| Baked   | 28      |\n",
       "| Fried   | 35      |\n",
       "| Almonds | 37      |\n",
       "\n"
      ],
      "text/plain": [
       "  Item    Weight\n",
       "1 Baked   28    \n",
       "2 Fried   35    \n",
       "3 Almonds 37    "
      ]
     },
     "metadata": {},
     "output_type": "display_data"
    }
   ],
   "source": [
    "packet = data.frame(Item = c('Baked','Fried','Almonds'),Weight = c(28,35,37))\n",
    "packet"
   ]
  },
  {
   "cell_type": "code",
   "execution_count": 7,
   "metadata": {},
   "outputs": [
    {
     "data": {
      "text/plain": [
       "\n",
       "\tChi-squared test for given probabilities\n",
       "\n",
       "data:  packet$Weight\n",
       "X-squared = 1.34, df = 2, p-value = 0.5117\n"
      ]
     },
     "metadata": {},
     "output_type": "display_data"
    }
   ],
   "source": [
    "chisq.test(packet$Weight,p=c(1/3,1/3,1/3))"
   ]
  },
  {
   "cell_type": "markdown",
   "metadata": {},
   "source": [
    "**Since the p-value is greater than the significance level, we cannot reject the null hypothesis. The packet has equal amounts of weight**"
   ]
  },
  {
   "cell_type": "markdown",
   "metadata": {},
   "source": [
    "##### Chi Square test of independence"
   ]
  },
  {
   "cell_type": "markdown",
   "metadata": {},
   "source": [
    "Test of independence is used to identify any association between two variables. "
   ]
  },
  {
   "cell_type": "markdown",
   "metadata": {},
   "source": [
    "Continuing with the above example, let's assume we get three packets each from morning shift, evening shift and night shift at the manufacturing facility. Test of independence helps us identify if there is any association between shift and weights in the packet."
   ]
  },
  {
   "cell_type": "markdown",
   "metadata": {},
   "source": [
    "$$H_{0} :\\text{ There is no relation between the shifts and the weights packed }\\\\\n",
    "H_{a}: \\text{There is some relation between the shifts and the weights}$$"
   ]
  },
  {
   "cell_type": "code",
   "execution_count": 22,
   "metadata": {},
   "outputs": [
    {
     "data": {
      "text/html": [
       "<table>\n",
       "<thead><tr><th></th><th scope=col>Baked</th><th scope=col>Fried</th><th scope=col>Almond</th></tr></thead>\n",
       "<tbody>\n",
       "\t<tr><th scope=row>Morning</th><td>33</td><td>33</td><td>33</td></tr>\n",
       "\t<tr><th scope=row>evening</th><td>35</td><td>43</td><td>29</td></tr>\n",
       "\t<tr><th scope=row>night</th><td>32</td><td>30</td><td>44</td></tr>\n",
       "</tbody>\n",
       "</table>\n"
      ],
      "text/latex": [
       "\\begin{tabular}{r|lll}\n",
       "  & Baked & Fried & Almond\\\\\n",
       "\\hline\n",
       "\tMorning & 33 & 33 & 33\\\\\n",
       "\tevening & 35 & 43 & 29\\\\\n",
       "\tnight & 32 & 30 & 44\\\\\n",
       "\\end{tabular}\n"
      ],
      "text/markdown": [
       "\n",
       "| <!--/--> | Baked | Fried | Almond |\n",
       "|---|---|---|---|\n",
       "| Morning | 33 | 33 | 33 |\n",
       "| evening | 35 | 43 | 29 |\n",
       "| night | 32 | 30 | 44 |\n",
       "\n"
      ],
      "text/plain": [
       "        Baked Fried Almond\n",
       "Morning 33    33    33    \n",
       "evening 35    43    29    \n",
       "night   32    30    44    "
      ]
     },
     "metadata": {},
     "output_type": "display_data"
    }
   ],
   "source": [
    "shift_data = data.frame(Shift= c(\"Morning\",\"evening\",\"night\"),Baked = c(33,35,32),Fried=c(33,43,30),Almond=c(33,29,44),row.names = 1)\n",
    "shift_data"
   ]
  },
  {
   "cell_type": "code",
   "execution_count": 24,
   "metadata": {},
   "outputs": [
    {
     "data": {
      "text/plain": [
       "\n",
       "\tPearson's Chi-squared test\n",
       "\n",
       "data:  shift_data\n",
       "X-squared = 5.682, df = 4, p-value = 0.2242\n"
      ]
     },
     "metadata": {},
     "output_type": "display_data"
    }
   ],
   "source": [
    "test = chisq.test(shift_data)\n",
    "test"
   ]
  },
  {
   "cell_type": "code",
   "execution_count": 25,
   "metadata": {},
   "outputs": [
    {
     "data": {
      "text/html": [
       "<table>\n",
       "<thead><tr><th></th><th scope=col>Baked</th><th scope=col>Fried</th><th scope=col>Almond</th></tr></thead>\n",
       "<tbody>\n",
       "\t<tr><th scope=row>Morning</th><td>33</td><td>33</td><td>33</td></tr>\n",
       "\t<tr><th scope=row>evening</th><td>35</td><td>43</td><td>29</td></tr>\n",
       "\t<tr><th scope=row>night</th><td>32</td><td>30</td><td>44</td></tr>\n",
       "</tbody>\n",
       "</table>\n"
      ],
      "text/latex": [
       "\\begin{tabular}{r|lll}\n",
       "  & Baked & Fried & Almond\\\\\n",
       "\\hline\n",
       "\tMorning & 33 & 33 & 33\\\\\n",
       "\tevening & 35 & 43 & 29\\\\\n",
       "\tnight & 32 & 30 & 44\\\\\n",
       "\\end{tabular}\n"
      ],
      "text/markdown": [
       "\n",
       "| <!--/--> | Baked | Fried | Almond |\n",
       "|---|---|---|---|\n",
       "| Morning | 33 | 33 | 33 |\n",
       "| evening | 35 | 43 | 29 |\n",
       "| night | 32 | 30 | 44 |\n",
       "\n"
      ],
      "text/plain": [
       "        Baked Fried Almond\n",
       "Morning 33    33    33    \n",
       "evening 35    43    29    \n",
       "night   32    30    44    "
      ]
     },
     "metadata": {},
     "output_type": "display_data"
    }
   ],
   "source": [
    "test$observed"
   ]
  },
  {
   "cell_type": "code",
   "execution_count": 28,
   "metadata": {},
   "outputs": [
    {
     "data": {
      "text/html": [
       "<table>\n",
       "<thead><tr><th></th><th scope=col>Baked</th><th scope=col>Fried</th><th scope=col>Almond</th></tr></thead>\n",
       "<tbody>\n",
       "\t<tr><th scope=row>Morning</th><td>31.73</td><td>33.63</td><td>33.63</td></tr>\n",
       "\t<tr><th scope=row>evening</th><td>34.29</td><td>36.35</td><td>36.35</td></tr>\n",
       "\t<tr><th scope=row>night</th><td>33.97</td><td>36.01</td><td>36.01</td></tr>\n",
       "</tbody>\n",
       "</table>\n"
      ],
      "text/latex": [
       "\\begin{tabular}{r|lll}\n",
       "  & Baked & Fried & Almond\\\\\n",
       "\\hline\n",
       "\tMorning & 31.73 & 33.63 & 33.63\\\\\n",
       "\tevening & 34.29 & 36.35 & 36.35\\\\\n",
       "\tnight & 33.97 & 36.01 & 36.01\\\\\n",
       "\\end{tabular}\n"
      ],
      "text/markdown": [
       "\n",
       "| <!--/--> | Baked | Fried | Almond |\n",
       "|---|---|---|---|\n",
       "| Morning | 31.73 | 33.63 | 33.63 |\n",
       "| evening | 34.29 | 36.35 | 36.35 |\n",
       "| night | 33.97 | 36.01 | 36.01 |\n",
       "\n"
      ],
      "text/plain": [
       "        Baked Fried Almond\n",
       "Morning 31.73 33.63 33.63 \n",
       "evening 34.29 36.35 36.35 \n",
       "night   33.97 36.01 36.01 "
      ]
     },
     "metadata": {},
     "output_type": "display_data"
    },
    {
     "data": {
      "text/plain": [
       "\n",
       "\tPearson's Chi-squared test\n",
       "\n",
       "data:  shift_data\n",
       "X-squared = 5.682, df = 4, p-value = 0.2242\n"
      ]
     },
     "metadata": {},
     "output_type": "display_data"
    }
   ],
   "source": [
    "round(test$expected,2)\n",
    "test"
   ]
  },
  {
   "cell_type": "markdown",
   "metadata": {},
   "source": [
    "Since the p-value is 0.2242, which is greater than 0.05, we cannot reject the null hypothesis. There is no relationship between shift and the packaging weights."
   ]
  },
  {
   "cell_type": "markdown",
   "metadata": {},
   "source": [
    "***"
   ]
  },
  {
   "cell_type": "markdown",
   "metadata": {},
   "source": [
    "#### Other tests"
   ]
  },
  {
   "cell_type": "markdown",
   "metadata": {},
   "source": [
    "##### Wilcoxon One Sample t-test\n",
    "\n",
    "This is non-parametric extension of one-sample t-test. It is to be used when the data does not follow normal distribution or has outliers."
   ]
  },
  {
   "cell_type": "markdown",
   "metadata": {},
   "source": [
    "##### ANOVA\n",
    "\n",
    "ANOVA is a parametric type of hypothesis testing. It is used to compare the means of multiple groups. The hypothesis for ANOVA is:\n",
    "\n",
    "$$H_{0}= \\mu_{0} =\\mu_{1}=\\mu_{2}=..=\\mu_{n} \\\\\n",
    "H_{a} =\\text{ Means are not equal}$$\n",
    "\n",
    "The test only gives us an answer to if the means are equal or not. It does not identify which group is different. "
   ]
  }
 ],
 "metadata": {
  "kernelspec": {
   "display_name": "R",
   "language": "R",
   "name": "ir"
  },
  "language_info": {
   "codemirror_mode": "r",
   "file_extension": ".r",
   "mimetype": "text/x-r-source",
   "name": "R",
   "pygments_lexer": "r",
   "version": "3.6.0"
  }
 },
 "nbformat": 4,
 "nbformat_minor": 2
}
